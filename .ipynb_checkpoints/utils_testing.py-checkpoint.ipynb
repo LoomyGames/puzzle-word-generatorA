{
 "cells": [
  {
   "cell_type": "code",
   "execution_count": 2,
   "id": "7096fe7e",
   "metadata": {},
   "outputs": [],
   "source": [
    "import pandas as pd\n",
    "import random\n",
    "import numpy as np\n",
    "import itertools\n",
    "from ete3 import Tree"
   ]
  },
  {
   "cell_type": "code",
   "execution_count": 162,
   "id": "f531c45a",
   "metadata": {},
   "outputs": [
    {
     "data": {
      "text/plain": [
       "['yond', 'code', 'goth', 'damp']"
      ]
     },
     "execution_count": 162,
     "metadata": {},
     "output_type": "execute_result"
    }
   ],
   "source": [
    "# Getting random words\n",
    "words_dict = pd.read_csv(\"words.csv\", index_col=False, header=0).aahs\n",
    "words_dict.dropna(inplace=True)\n",
    "words_dict.drop_duplicates(inplace=True)\n",
    "words_dict.size\n",
    "\n",
    "target_words = words_dict.sample(4).to_list()\n",
    "target_words"
   ]
  },
  {
   "cell_type": "code",
   "execution_count": 4,
   "id": "37adbd57",
   "metadata": {},
   "outputs": [],
   "source": [
    "def generate_puzzle_data(target_words):\n",
    "    # Creating 4x4 game grid and indexing\n",
    "    grid = []\n",
    "    word_hints = {}\n",
    "    indexes = [[(0,0),(0,1),(0,2),(0,3)],[(1,0),(1,1),(1,2),(1,3)],[(2,0),(2,1),(2,2),(2,3)],[(3,0),(3,1),(3,2),(3,3)]]\n",
    "    \n",
    "    for index_row in indexes:\n",
    "        random.shuffle(index_row)\n",
    "        \n",
    "    for i, word in enumerate(target_words):\n",
    "        hint_ind = 0\n",
    "        for j, letter in enumerate(word):\n",
    "            grid.append([letter, indexes[j][i]])\n",
    "            hint_ind += indexes[j][i][1] \n",
    "        word_hints[word] = hint_ind + 4\n",
    "    \n",
    "    #draw the board\n",
    "    board = np.zeros([4,4], dtype=str)\n",
    "    for letter_pos in grid:\n",
    "        board[letter_pos[1][0]][letter_pos[1][1]] = letter_pos[0]\n",
    "        \n",
    "    return grid, word_hints, board"
   ]
  },
  {
   "cell_type": "code",
   "execution_count": 5,
   "id": "2507d49f",
   "metadata": {},
   "outputs": [],
   "source": [
    "grid, word_hints, board= generate_puzzle_data(targte_words=target_words)"
   ]
  },
  {
   "cell_type": "code",
   "execution_count": 6,
   "id": "5260e265",
   "metadata": {},
   "outputs": [
    {
     "data": {
      "text/plain": [
       "[['l', (0, 0)],\n",
       " ['e', (1, 2)],\n",
       " ['g', (2, 3)],\n",
       " ['s', (3, 0)],\n",
       " ['i', (0, 3)],\n",
       " ['r', (1, 0)],\n",
       " ['o', (2, 2)],\n",
       " ['n', (3, 3)],\n",
       " ['j', (0, 1)],\n",
       " ['e', (1, 1)],\n",
       " ['l', (2, 0)],\n",
       " ['i', (3, 1)],\n",
       " ['g', (0, 2)],\n",
       " ['u', (1, 3)],\n",
       " ['c', (2, 1)],\n",
       " ['k', (3, 2)]]"
      ]
     },
     "execution_count": 6,
     "metadata": {},
     "output_type": "execute_result"
    }
   ],
   "source": [
    "grid"
   ]
  },
  {
   "cell_type": "code",
   "execution_count": 7,
   "id": "7323fdbc",
   "metadata": {},
   "outputs": [
    {
     "name": "stdout",
     "output_type": "stream",
     "text": [
      "{'legs': 9, 'iron': 12, 'jeli': 7, 'guck': 12}\n"
     ]
    }
   ],
   "source": [
    "print(word_hints)"
   ]
  },
  {
   "cell_type": "code",
   "execution_count": 8,
   "id": "5293cf2d",
   "metadata": {},
   "outputs": [
    {
     "name": "stdout",
     "output_type": "stream",
     "text": [
      "[['l' 'j' 'g' 'i']\n",
      " ['r' 'e' 'e' 'u']\n",
      " ['l' 'c' 'o' 'g']\n",
      " ['s' 'i' 'k' 'n']]\n"
     ]
    }
   ],
   "source": [
    "print(board)"
   ]
  },
  {
   "cell_type": "markdown",
   "id": "c87c7528",
   "metadata": {},
   "source": [
    "# No hints"
   ]
  },
  {
   "cell_type": "markdown",
   "id": "7e7dfcc1",
   "metadata": {},
   "source": [
    "## Brute force"
   ]
  },
  {
   "cell_type": "markdown",
   "id": "8bf5904e",
   "metadata": {},
   "source": [
    "# Brute force V2"
   ]
  },
  {
   "cell_type": "code",
   "execution_count": 132,
   "id": "cbd3d06e",
   "metadata": {},
   "outputs": [],
   "source": [
    "# removes duplicate words\n",
    "def get_unique_combo(words_dict, max_attempts):\n",
    "    loop_counter = 0\n",
    "    while True:\n",
    "        target_words = words_dict.sample(4).to_list()\n",
    "    \n",
    "        rows = np.zeros([4,4],str)\n",
    "        words_collector = []\n",
    "        counter = 0\n",
    "\n",
    "        #split words into letters per board row\n",
    "        for i, word in enumerate(target_words):\n",
    "            for j, letter in enumerate(word):\n",
    "                rows[j][i] = letter\n",
    "\n",
    "        #get all permutations\n",
    "        permutations = list(itertools.product(*rows))\n",
    "\n",
    "        # check if those 4 words can create any other words with their letters\n",
    "        for combination in permutations:\n",
    "            test_word = \"\".join(combination)\n",
    "            counter += words_dict[words_dict == test_word].count()\n",
    "            if words_dict[words_dict == test_word].count():\n",
    "                words_collector.append(combination)\n",
    "\n",
    "        #print(counter)\n",
    "\n",
    "        #exit loop\n",
    "        if len(set(words_collector)) <= 7:\n",
    "            print(\"Fails: \", loop_counter)\n",
    "            print(words_collector)\n",
    "            return target_words\n",
    "        else:\n",
    "            loop_counter += 1\n",
    "            if loop_counter > max_attempts:\n",
    "                print(\"Failed to find, try again :p\")\n",
    "                return -1"
   ]
  },
  {
   "cell_type": "code",
   "execution_count": 133,
   "id": "82ff3401",
   "metadata": {},
   "outputs": [
    {
     "name": "stdout",
     "output_type": "stream",
     "text": [
      "Fails:  20\n",
      "[('t', 'h', 'i', 'n'), ('t', 'h', 'i', 'n'), ('t', 'h', 'a', 'n'), ('t', 'h', 'a', 'n'), ('f', 'l', 'a', 'n'), ('f', 'l', 'a', 'n'), ('f', 'l', 'a', 'y'), ('f', 'o', 'g', 'y'), ('f', 'l', 'a', 'n'), ('f', 'l', 'a', 'n'), ('f', 'l', 'a', 'y'), ('f', 'o', 'g', 'y'), ('d', 'i', 's', 'c')]\n"
     ]
    },
    {
     "data": {
      "text/plain": [
       "['thin', 'flan', 'fogy', 'disc']"
      ]
     },
     "execution_count": 133,
     "metadata": {},
     "output_type": "execute_result"
    }
   ],
   "source": [
    "good_words = get_unique_combo(words_dict, 500)\n",
    "good_words"
   ]
  },
  {
   "cell_type": "markdown",
   "id": "f7769c2c",
   "metadata": {},
   "source": [
    "## Not so much brute force"
   ]
  },
  {
   "cell_type": "code",
   "execution_count": 46,
   "id": "28493021",
   "metadata": {},
   "outputs": [],
   "source": [
    "test_words = [('l', 'e', 'g', 's'),\n",
    "              ('l', 'e', 'g', 's'),\n",
    "              ('l', 'u', 'g', 's'),\n",
    "              ('l', 'u', 'c', 'k'),\n",
    "              ('i', 'r', 'o', 'n'),\n",
    "              ('j', 'e', 'l', 'i'),\n",
    "              ('j', 'e', 'l', 'i'),\n",
    "              ('j', 'u', 'g', 's'),\n",
    "              ('g', 'e', 'l', 's'),\n",
    "              ('g', 'e', 'l', 's'),\n",
    "              ('g', 'u', 'c', 'k')]"
   ]
  },
  {
   "cell_type": "code",
   "execution_count": 80,
   "id": "3379e937",
   "metadata": {},
   "outputs": [
    {
     "name": "stdout",
     "output_type": "stream",
     "text": [
      "38\n",
      "11\n"
     ]
    }
   ],
   "source": [
    "# check if those 4 words can create any other words with their letters\n",
    "\n",
    "# use this to collect all the words you can create from the solution\n",
    "rows = np.zeros([4,4],str)\n",
    "\n",
    "for i, word in enumerate(words_dict.sample(4).to_list()):\n",
    "    for j, letter in enumerate(word):\n",
    "        rows[j][i] = letter\n",
    "\n",
    "permutations = list(itertools.product(*rows))\n",
    "\n",
    "words_collector = []\n",
    "\n",
    "counter = 0\n",
    "for combination in permutations:\n",
    "    test_word = \"\".join(combination)\n",
    "    counter += words_dict[words_dict == test_word].count()\n",
    "    if words_dict[words_dict == test_word].count():\n",
    "        words_collector.append(combination)\n",
    "    \n",
    "print(counter)\n",
    "print(len(set(words_collector)))\n"
   ]
  },
  {
   "cell_type": "code",
   "execution_count": 81,
   "id": "0c2eea47",
   "metadata": {},
   "outputs": [
    {
     "data": {
      "text/plain": [
       "[('l', 'u', 'g', 'e'),\n",
       " ('l', 'u', 'g', 'e'),\n",
       " ('l', 'u', 'g', 'e'),\n",
       " ('l', 'u', 'r', 'e'),\n",
       " ('l', 'u', 'r', 'e'),\n",
       " ('l', 'u', 'r', 'e'),\n",
       " ('l', 'o', 'p', 'e'),\n",
       " ('l', 'o', 'p', 'e'),\n",
       " ('l', 'o', 'p', 'e'),\n",
       " ('l', 'o', 'r', 'e'),\n",
       " ('l', 'o', 'r', 'e'),\n",
       " ('l', 'o', 'r', 'e'),\n",
       " ('l', 'e', 'p', 't'),\n",
       " ('l', 'u', 'g', 'e'),\n",
       " ('l', 'u', 'g', 'e'),\n",
       " ('l', 'u', 'g', 'e'),\n",
       " ('l', 'u', 'r', 'e'),\n",
       " ('l', 'u', 'r', 'e'),\n",
       " ('l', 'u', 'r', 'e'),\n",
       " ('l', 'o', 'p', 'e'),\n",
       " ('l', 'o', 'p', 'e'),\n",
       " ('l', 'o', 'p', 'e'),\n",
       " ('l', 'o', 'r', 'e'),\n",
       " ('l', 'o', 'r', 'e'),\n",
       " ('l', 'o', 'r', 'e'),\n",
       " ('l', 'e', 'p', 't'),\n",
       " ('s', 'u', 'r', 'e'),\n",
       " ('s', 'u', 'r', 'e'),\n",
       " ('s', 'u', 'r', 'e'),\n",
       " ('s', 'u', 'e', 't'),\n",
       " ('s', 'o', 'r', 'e'),\n",
       " ('s', 'o', 'r', 'e'),\n",
       " ('s', 'o', 'r', 'e'),\n",
       " ('s', 'o', 'r', 't'),\n",
       " ('s', 'e', 'r', 'e'),\n",
       " ('s', 'e', 'r', 'e'),\n",
       " ('s', 'e', 'r', 'e'),\n",
       " ('a', 'b', 'e', 't')]"
      ]
     },
     "execution_count": 81,
     "metadata": {},
     "output_type": "execute_result"
    }
   ],
   "source": [
    "words_collector"
   ]
  },
  {
   "cell_type": "markdown",
   "id": "26ababe2",
   "metadata": {},
   "source": [
    "a = [1,2,2,3,4]\n",
    "a.index(2)"
   ]
  },
  {
   "cell_type": "markdown",
   "id": "ffd2c036",
   "metadata": {},
   "source": [
    "rows"
   ]
  },
  {
   "cell_type": "code",
   "execution_count": 51,
   "id": "848b7e68",
   "metadata": {
    "scrolled": true
   },
   "outputs": [
    {
     "data": {
      "text/plain": [
       "36"
      ]
     },
     "execution_count": 51,
     "metadata": {},
     "output_type": "execute_result"
    }
   ],
   "source": [
    "# to split the words and create combination of 4 words\n",
    "A1 = rows[0][0]\n",
    "A2 = rows[0][1]\n",
    "A3 = rows[0][2]\n",
    "A4 = rows[0][3]\n",
    "\n",
    "w1 = []\n",
    "w2 = []\n",
    "w3 = []\n",
    "w4 = []\n",
    "\n",
    "for word in words_collector:\n",
    "    if word[0] == A1:\n",
    "        w1.append(word)\n",
    "    if word[0] == A2:\n",
    "        w2.append(word)\n",
    "    if word[0] == A3:\n",
    "        w3.append(word)\n",
    "    if word[0] == A4:\n",
    "        w4.append(word)\n",
    "\n",
    "#list(itertools.product(w1,w2,w3,w4))\n",
    "len(list(itertools.product(w1,w2,w3,w4)))"
   ]
  },
  {
   "cell_type": "code",
   "execution_count": 74,
   "id": "7ffff541",
   "metadata": {},
   "outputs": [],
   "source": [
    "a_list = list(itertools.product(w1,w2,w3,w4))"
   ]
  },
  {
   "cell_type": "code",
   "execution_count": 75,
   "id": "4328d220",
   "metadata": {},
   "outputs": [],
   "source": [
    "test = (('l', 'e', 'g', 's'),\n",
    "  ('i', 'r', 'o', 'n'),\n",
    "  ('j', 'e', 'l', 'i'),\n",
    "  ('g', 'u', 'c', 'k'))"
   ]
  },
  {
   "cell_type": "code",
   "execution_count": 73,
   "id": "26dc5743",
   "metadata": {},
   "outputs": [
    {
     "ename": "ValueError",
     "evalue": "(('l', 'e', 'g', 's'), ('i', 'r', 'o', 'n'), ('j', 'e', 'l', 'i'), ('g', 'u', 'c', 'k')) is not in list",
     "output_type": "error",
     "traceback": [
      "\u001b[1;31m---------------------------------------------------------------------------\u001b[0m",
      "\u001b[1;31mValueError\u001b[0m                                Traceback (most recent call last)",
      "Input \u001b[1;32mIn [73]\u001b[0m, in \u001b[0;36m<module>\u001b[1;34m\u001b[0m\n\u001b[1;32m----> 1\u001b[0m \u001b[43ma_list\u001b[49m\u001b[38;5;241;43m.\u001b[39;49m\u001b[43mindex\u001b[49m\u001b[43m(\u001b[49m\u001b[43mtest\u001b[49m\u001b[43m)\u001b[49m\n",
      "\u001b[1;31mValueError\u001b[0m: (('l', 'e', 'g', 's'), ('i', 'r', 'o', 'n'), ('j', 'e', 'l', 'i'), ('g', 'u', 'c', 'k')) is not in list"
     ]
    }
   ],
   "source": [
    "a_list.index(test)"
   ]
  },
  {
   "cell_type": "code",
   "execution_count": 72,
   "id": "a5c9a051",
   "metadata": {},
   "outputs": [
    {
     "data": {
      "text/plain": [
       "(('l', 'e', 'g', 's'),\n",
       " ('i', 'r', 'o', 'n'),\n",
       " ('j', 'e', 'l', 'i'),\n",
       " ('g', 'u', 'c', 'k'))"
      ]
     },
     "execution_count": 72,
     "metadata": {},
     "output_type": "execute_result"
    }
   ],
   "source": [
    "a_list.pop(a_list.index(test))"
   ]
  },
  {
   "cell_type": "code",
   "execution_count": 76,
   "id": "fd97e091",
   "metadata": {
    "scrolled": false
   },
   "outputs": [
    {
     "data": {
      "text/plain": [
       "[(('l', 'e', 'g', 's'),\n",
       "  ('i', 'r', 'o', 'n'),\n",
       "  ('j', 'e', 'l', 'i'),\n",
       "  ('g', 'e', 'l', 's')),\n",
       " (('l', 'e', 'g', 's'),\n",
       "  ('i', 'r', 'o', 'n'),\n",
       "  ('j', 'e', 'l', 'i'),\n",
       "  ('g', 'e', 'l', 's')),\n",
       " (('l', 'e', 'g', 's'),\n",
       "  ('i', 'r', 'o', 'n'),\n",
       "  ('j', 'e', 'l', 'i'),\n",
       "  ('g', 'u', 'c', 'k')),\n",
       " (('l', 'e', 'g', 's'),\n",
       "  ('i', 'r', 'o', 'n'),\n",
       "  ('j', 'e', 'l', 'i'),\n",
       "  ('g', 'e', 'l', 's')),\n",
       " (('l', 'e', 'g', 's'),\n",
       "  ('i', 'r', 'o', 'n'),\n",
       "  ('j', 'e', 'l', 'i'),\n",
       "  ('g', 'e', 'l', 's')),\n",
       " (('l', 'e', 'g', 's'),\n",
       "  ('i', 'r', 'o', 'n'),\n",
       "  ('j', 'e', 'l', 'i'),\n",
       "  ('g', 'u', 'c', 'k')),\n",
       " (('l', 'e', 'g', 's'),\n",
       "  ('i', 'r', 'o', 'n'),\n",
       "  ('j', 'u', 'g', 's'),\n",
       "  ('g', 'e', 'l', 's')),\n",
       " (('l', 'e', 'g', 's'),\n",
       "  ('i', 'r', 'o', 'n'),\n",
       "  ('j', 'u', 'g', 's'),\n",
       "  ('g', 'e', 'l', 's')),\n",
       " (('l', 'e', 'g', 's'),\n",
       "  ('i', 'r', 'o', 'n'),\n",
       "  ('j', 'u', 'g', 's'),\n",
       "  ('g', 'u', 'c', 'k')),\n",
       " (('l', 'e', 'g', 's'),\n",
       "  ('i', 'r', 'o', 'n'),\n",
       "  ('j', 'e', 'l', 'i'),\n",
       "  ('g', 'e', 'l', 's')),\n",
       " (('l', 'e', 'g', 's'),\n",
       "  ('i', 'r', 'o', 'n'),\n",
       "  ('j', 'e', 'l', 'i'),\n",
       "  ('g', 'e', 'l', 's')),\n",
       " (('l', 'e', 'g', 's'),\n",
       "  ('i', 'r', 'o', 'n'),\n",
       "  ('j', 'e', 'l', 'i'),\n",
       "  ('g', 'u', 'c', 'k')),\n",
       " (('l', 'e', 'g', 's'),\n",
       "  ('i', 'r', 'o', 'n'),\n",
       "  ('j', 'e', 'l', 'i'),\n",
       "  ('g', 'e', 'l', 's')),\n",
       " (('l', 'e', 'g', 's'),\n",
       "  ('i', 'r', 'o', 'n'),\n",
       "  ('j', 'e', 'l', 'i'),\n",
       "  ('g', 'e', 'l', 's')),\n",
       " (('l', 'e', 'g', 's'),\n",
       "  ('i', 'r', 'o', 'n'),\n",
       "  ('j', 'e', 'l', 'i'),\n",
       "  ('g', 'u', 'c', 'k')),\n",
       " (('l', 'e', 'g', 's'),\n",
       "  ('i', 'r', 'o', 'n'),\n",
       "  ('j', 'u', 'g', 's'),\n",
       "  ('g', 'e', 'l', 's')),\n",
       " (('l', 'e', 'g', 's'),\n",
       "  ('i', 'r', 'o', 'n'),\n",
       "  ('j', 'u', 'g', 's'),\n",
       "  ('g', 'e', 'l', 's')),\n",
       " (('l', 'e', 'g', 's'),\n",
       "  ('i', 'r', 'o', 'n'),\n",
       "  ('j', 'u', 'g', 's'),\n",
       "  ('g', 'u', 'c', 'k')),\n",
       " (('l', 'u', 'g', 's'),\n",
       "  ('i', 'r', 'o', 'n'),\n",
       "  ('j', 'e', 'l', 'i'),\n",
       "  ('g', 'e', 'l', 's')),\n",
       " (('l', 'u', 'g', 's'),\n",
       "  ('i', 'r', 'o', 'n'),\n",
       "  ('j', 'e', 'l', 'i'),\n",
       "  ('g', 'e', 'l', 's')),\n",
       " (('l', 'u', 'g', 's'),\n",
       "  ('i', 'r', 'o', 'n'),\n",
       "  ('j', 'e', 'l', 'i'),\n",
       "  ('g', 'u', 'c', 'k')),\n",
       " (('l', 'u', 'g', 's'),\n",
       "  ('i', 'r', 'o', 'n'),\n",
       "  ('j', 'e', 'l', 'i'),\n",
       "  ('g', 'e', 'l', 's')),\n",
       " (('l', 'u', 'g', 's'),\n",
       "  ('i', 'r', 'o', 'n'),\n",
       "  ('j', 'e', 'l', 'i'),\n",
       "  ('g', 'e', 'l', 's')),\n",
       " (('l', 'u', 'g', 's'),\n",
       "  ('i', 'r', 'o', 'n'),\n",
       "  ('j', 'e', 'l', 'i'),\n",
       "  ('g', 'u', 'c', 'k')),\n",
       " (('l', 'u', 'g', 's'),\n",
       "  ('i', 'r', 'o', 'n'),\n",
       "  ('j', 'u', 'g', 's'),\n",
       "  ('g', 'e', 'l', 's')),\n",
       " (('l', 'u', 'g', 's'),\n",
       "  ('i', 'r', 'o', 'n'),\n",
       "  ('j', 'u', 'g', 's'),\n",
       "  ('g', 'e', 'l', 's')),\n",
       " (('l', 'u', 'g', 's'),\n",
       "  ('i', 'r', 'o', 'n'),\n",
       "  ('j', 'u', 'g', 's'),\n",
       "  ('g', 'u', 'c', 'k')),\n",
       " (('l', 'u', 'c', 'k'),\n",
       "  ('i', 'r', 'o', 'n'),\n",
       "  ('j', 'e', 'l', 'i'),\n",
       "  ('g', 'e', 'l', 's')),\n",
       " (('l', 'u', 'c', 'k'),\n",
       "  ('i', 'r', 'o', 'n'),\n",
       "  ('j', 'e', 'l', 'i'),\n",
       "  ('g', 'e', 'l', 's')),\n",
       " (('l', 'u', 'c', 'k'),\n",
       "  ('i', 'r', 'o', 'n'),\n",
       "  ('j', 'e', 'l', 'i'),\n",
       "  ('g', 'u', 'c', 'k')),\n",
       " (('l', 'u', 'c', 'k'),\n",
       "  ('i', 'r', 'o', 'n'),\n",
       "  ('j', 'e', 'l', 'i'),\n",
       "  ('g', 'e', 'l', 's')),\n",
       " (('l', 'u', 'c', 'k'),\n",
       "  ('i', 'r', 'o', 'n'),\n",
       "  ('j', 'e', 'l', 'i'),\n",
       "  ('g', 'e', 'l', 's')),\n",
       " (('l', 'u', 'c', 'k'),\n",
       "  ('i', 'r', 'o', 'n'),\n",
       "  ('j', 'e', 'l', 'i'),\n",
       "  ('g', 'u', 'c', 'k')),\n",
       " (('l', 'u', 'c', 'k'),\n",
       "  ('i', 'r', 'o', 'n'),\n",
       "  ('j', 'u', 'g', 's'),\n",
       "  ('g', 'e', 'l', 's')),\n",
       " (('l', 'u', 'c', 'k'),\n",
       "  ('i', 'r', 'o', 'n'),\n",
       "  ('j', 'u', 'g', 's'),\n",
       "  ('g', 'e', 'l', 's')),\n",
       " (('l', 'u', 'c', 'k'),\n",
       "  ('i', 'r', 'o', 'n'),\n",
       "  ('j', 'u', 'g', 's'),\n",
       "  ('g', 'u', 'c', 'k'))]"
      ]
     },
     "execution_count": 76,
     "metadata": {},
     "output_type": "execute_result"
    }
   ],
   "source": [
    "a_list"
   ]
  },
  {
   "cell_type": "code",
   "execution_count": null,
   "id": "eb3cb0e5",
   "metadata": {},
   "outputs": [],
   "source": [
    "[(('l', 'e', 'g', 's'),\n",
    "  ('i', 'r', 'o', 'n'),\n",
    "  ('j', 'e', 'l', 'i'),\n",
    "  ('g', 'e', 'l', 's')),\n",
    " (('l', 'e', 'g', 's'),\n",
    "  ('i', 'r', 'o', 'n'),\n",
    "  ('j', 'e', 'l', 'i'),\n",
    "  ('g', 'e', 'l', 's')),\n",
    " (('l', 'e', 'g', 's'),\n",
    "  ('i', 'r', 'o', 'n'),\n",
    "  ('j', 'e', 'l', 'i'),\n",
    "  ('g', 'u', 'c', 'k')),\n",
    " (('l', 'e', 'g', 's'),\n",
    "  ('i', 'r', 'o', 'n'),\n",
    "  ('j', 'e', 'l', 'i'),\n",
    "  ('g', 'e', 'l', 's')),\n",
    " (('l', 'e', 'g', 's'),\n",
    "  ('i', 'r', 'o', 'n'),\n",
    "  ('j', 'e', 'l', 'i'),\n",
    "  ('g', 'e', 'l', 's')),\n",
    " (('l', 'e', 'g', 's'),\n",
    "  ('i', 'r', 'o', 'n'),\n",
    "  ('j', 'e', 'l', 'i'),\n",
    "  ('g', 'u', 'c', 'k')),\n",
    " (('l', 'e', 'g', 's'),\n",
    "  ('i', 'r', 'o', 'n'),\n",
    "  ('j', 'u', 'g', 's'),\n",
    "  ('g', 'e', 'l', 's')),\n",
    " (('l', 'e', 'g', 's'),\n",
    "  ('i', 'r', 'o', 'n'),\n",
    "  ('j', 'u', 'g', 's'),\n",
    "  ('g', 'e', 'l', 's')),\n",
    " (('l', 'e', 'g', 's'),\n",
    "  ('i', 'r', 'o', 'n'),\n",
    "  ('j', 'u', 'g', 's'),\n",
    "  ('g', 'u', 'c', 'k')),\n",
    " (('l', 'e', 'g', 's'),\n",
    "  ('i', 'r', 'o', 'n'),\n",
    "  ('j', 'e', 'l', 'i'),\n",
    "  ('g', 'e', 'l', 's')),\n",
    " (('l', 'e', 'g', 's'),\n",
    "  ('i', 'r', 'o', 'n'),\n",
    "  ('j', 'e', 'l', 'i'),\n",
    "  ('g', 'e', 'l', 's')),\n",
    " (('l', 'e', 'g', 's'),\n",
    "  ('i', 'r', 'o', 'n'),\n",
    "  ('j', 'e', 'l', 'i'),\n",
    "  ('g', 'u', 'c', 'k')),\n",
    " (('l', 'e', 'g', 's'),\n",
    "  ('i', 'r', 'o', 'n'),\n",
    "  ('j', 'e', 'l', 'i'),\n",
    "  ('g', 'e', 'l', 's')),\n",
    " (('l', 'e', 'g', 's'),\n",
    "  ('i', 'r', 'o', 'n'),\n",
    "  ('j', 'e', 'l', 'i'),\n",
    "  ('g', 'e', 'l', 's')),\n",
    " (('l', 'e', 'g', 's'),\n",
    "  ('i', 'r', 'o', 'n'),\n",
    "  ('j', 'e', 'l', 'i'),\n",
    "  ('g', 'u', 'c', 'k')),\n",
    " (('l', 'e', 'g', 's'),\n",
    "  ('i', 'r', 'o', 'n'),\n",
    "  ('j', 'u', 'g', 's'),\n",
    "  ('g', 'e', 'l', 's')),\n",
    " (('l', 'e', 'g', 's'),\n",
    "  ('i', 'r', 'o', 'n'),\n",
    "  ('j', 'u', 'g', 's'),\n",
    "  ('g', 'e', 'l', 's')),\n",
    " (('l', 'e', 'g', 's'),\n",
    "  ('i', 'r', 'o', 'n'),\n",
    "  ('j', 'u', 'g', 's'),\n",
    "  ('g', 'u', 'c', 'k')),\n",
    " (('l', 'u', 'g', 's'),\n",
    "  ('i', 'r', 'o', 'n'),\n",
    "  ('j', 'e', 'l', 'i'),\n",
    "  ('g', 'e', 'l', 's')),\n",
    " (('l', 'u', 'g', 's'),\n",
    "  ('i', 'r', 'o', 'n'),\n",
    "  ('j', 'e', 'l', 'i'),\n",
    "  ('g', 'e', 'l', 's')),\n",
    " (('l', 'u', 'g', 's'),\n",
    "  ('i', 'r', 'o', 'n'),\n",
    "  ('j', 'e', 'l', 'i'),\n",
    "  ('g', 'u', 'c', 'k')),\n",
    " (('l', 'u', 'g', 's'),\n",
    "  ('i', 'r', 'o', 'n'),\n",
    "  ('j', 'e', 'l', 'i'),\n",
    "  ('g', 'e', 'l', 's')),\n",
    " (('l', 'u', 'g', 's'),\n",
    "  ('i', 'r', 'o', 'n'),\n",
    "  ('j', 'e', 'l', 'i'),\n",
    "  ('g', 'e', 'l', 's')),\n",
    " (('l', 'u', 'g', 's'),\n",
    "  ('i', 'r', 'o', 'n'),\n",
    "  ('j', 'e', 'l', 'i'),\n",
    "  ('g', 'u', 'c', 'k')),\n",
    " (('l', 'u', 'g', 's'),\n",
    "  ('i', 'r', 'o', 'n'),\n",
    "  ('j', 'u', 'g', 's'),\n",
    "  ('g', 'e', 'l', 's')),\n",
    " (('l', 'u', 'g', 's'),\n",
    "  ('i', 'r', 'o', 'n'),\n",
    "  ('j', 'u', 'g', 's'),\n",
    "  ('g', 'e', 'l', 's')),\n",
    " (('l', 'u', 'g', 's'),\n",
    "  ('i', 'r', 'o', 'n'),\n",
    "  ('j', 'u', 'g', 's'),\n",
    "  ('g', 'u', 'c', 'k')),\n",
    " (('l', 'u', 'c', 'k'),\n",
    "  ('i', 'r', 'o', 'n'),\n",
    "  ('j', 'e', 'l', 'i'),\n",
    "  ('g', 'e', 'l', 's')),\n",
    " (('l', 'u', 'c', 'k'),\n",
    "  ('i', 'r', 'o', 'n'),\n",
    "  ('j', 'e', 'l', 'i'),\n",
    "  ('g', 'e', 'l', 's')),\n",
    " (('l', 'u', 'c', 'k'),\n",
    "  ('i', 'r', 'o', 'n'),\n",
    "  ('j', 'e', 'l', 'i'),\n",
    "  ('g', 'u', 'c', 'k')),\n",
    " (('l', 'u', 'c', 'k'),\n",
    "  ('i', 'r', 'o', 'n'),\n",
    "  ('j', 'e', 'l', 'i'),\n",
    "  ('g', 'e', 'l', 's')),\n",
    " (('l', 'u', 'c', 'k'),\n",
    "  ('i', 'r', 'o', 'n'),\n",
    "  ('j', 'e', 'l', 'i'),\n",
    "  ('g', 'e', 'l', 's')),\n",
    " (('l', 'u', 'c', 'k'),\n",
    "  ('i', 'r', 'o', 'n'),\n",
    "  ('j', 'e', 'l', 'i'),\n",
    "  ('g', 'u', 'c', 'k')),\n",
    " (('l', 'u', 'c', 'k'),\n",
    "  ('i', 'r', 'o', 'n'),\n",
    "  ('j', 'u', 'g', 's'),\n",
    "  ('g', 'e', 'l', 's')),\n",
    " (('l', 'u', 'c', 'k'),\n",
    "  ('i', 'r', 'o', 'n'),\n",
    "  ('j', 'u', 'g', 's'),\n",
    "  ('g', 'e', 'l', 's')),\n",
    " (('l', 'u', 'c', 'k'),\n",
    "  ('i', 'r', 'o', 'n'),\n",
    "  ('j', 'u', 'g', 's'),\n",
    "  ('g', 'u', 'c', 'k'))]"
   ]
  }
 ],
 "metadata": {
  "kernelspec": {
   "display_name": "Python 3 (ipykernel)",
   "language": "python",
   "name": "python3"
  },
  "language_info": {
   "codemirror_mode": {
    "name": "ipython",
    "version": 3
   },
   "file_extension": ".py",
   "mimetype": "text/x-python",
   "name": "python",
   "nbconvert_exporter": "python",
   "pygments_lexer": "ipython3",
   "version": "3.9.7"
  }
 },
 "nbformat": 4,
 "nbformat_minor": 5
}
